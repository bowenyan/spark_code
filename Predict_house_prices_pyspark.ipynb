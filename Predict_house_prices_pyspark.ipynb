{
 "cells": [
  {
   "cell_type": "code",
   "execution_count": 2,
   "metadata": {},
   "outputs": [],
   "source": [
    "import findspark"
   ]
  },
  {
   "cell_type": "code",
   "execution_count": 3,
   "metadata": {},
   "outputs": [],
   "source": [
    "findspark.init('/home/bowen/spark-2.4.4-bin-hadoop2.7/')"
   ]
  },
  {
   "cell_type": "code",
   "execution_count": 4,
   "metadata": {},
   "outputs": [],
   "source": [
    "from pyspark.sql import SparkSession\n",
    "from pyspark.ml.regression import LinearRegression"
   ]
  },
  {
   "cell_type": "code",
   "execution_count": 5,
   "metadata": {},
   "outputs": [],
   "source": [
    "spark = SparkSession.builder.appName('lr_house_price').getOrCreate()\n",
    "df = spark.read.csv('home_data.csv', inferSchema=True, header=True)"
   ]
  },
  {
   "cell_type": "code",
   "execution_count": 6,
   "metadata": {},
   "outputs": [
    {
     "name": "stdout",
     "output_type": "stream",
     "text": [
      "root\n",
      " |-- id: long (nullable = true)\n",
      " |-- date: string (nullable = true)\n",
      " |-- price: integer (nullable = true)\n",
      " |-- bedrooms: integer (nullable = true)\n",
      " |-- bathrooms: double (nullable = true)\n",
      " |-- sqft_living: integer (nullable = true)\n",
      " |-- sqft_lot: integer (nullable = true)\n",
      " |-- floors: double (nullable = true)\n",
      " |-- waterfront: integer (nullable = true)\n",
      " |-- view: integer (nullable = true)\n",
      " |-- condition: integer (nullable = true)\n",
      " |-- grade: integer (nullable = true)\n",
      " |-- sqft_above: integer (nullable = true)\n",
      " |-- sqft_basement: integer (nullable = true)\n",
      " |-- yr_built: integer (nullable = true)\n",
      " |-- yr_renovated: integer (nullable = true)\n",
      " |-- zipcode: integer (nullable = true)\n",
      " |-- lat: double (nullable = true)\n",
      " |-- long: double (nullable = true)\n",
      " |-- sqft_living15: integer (nullable = true)\n",
      " |-- sqft_lot15: integer (nullable = true)\n",
      "\n"
     ]
    }
   ],
   "source": [
    "df.printSchema()"
   ]
  },
  {
   "cell_type": "code",
   "execution_count": 7,
   "metadata": {},
   "outputs": [
    {
     "data": {
      "text/plain": [
       "[Row(id=7129300520, date='20141013T000000', price=221900, bedrooms=3, bathrooms=1.0, sqft_living=1180, sqft_lot=5650, floors=1.0, waterfront=0, view=0, condition=3, grade=7, sqft_above=1180, sqft_basement=0, yr_built=1955, yr_renovated=0, zipcode=98178, lat=47.5112, long=-122.257, sqft_living15=1340, sqft_lot15=5650)]"
      ]
     },
     "execution_count": 7,
     "metadata": {},
     "output_type": "execute_result"
    }
   ],
   "source": [
    "df.head(1)"
   ]
  },
  {
   "cell_type": "code",
   "execution_count": 118,
   "metadata": {},
   "outputs": [],
   "source": [
    "from pyspark.ml.linalg import Vectors\n",
    "from pyspark.ml.feature import VectorAssembler\n",
    "from pyspark.ml.feature import StandardScaler"
   ]
  },
  {
   "cell_type": "code",
   "execution_count": 142,
   "metadata": {},
   "outputs": [],
   "source": [
    "#prepare data for Spark ml lib\n",
    "selected_features = [\"bedrooms\", \"bathrooms\", \"sqft_living\", \"sqft_lot\", \"floors\", \"waterfront\", \"view\", \"condition\", \n",
    "                     \"grade\", \"sqft_above\", \"sqft_basement\", \"yr_built\", \"yr_renovated\", \"sqft_living15\", \"sqft_lot15\"]\n",
    "assembler = VectorAssembler(inputCols=selected_features, outputCol='features')\n",
    "house_df = assembler.transform(df)\n",
    "house_df = house_df.select(['features', 'price'])"
   ]
  },
  {
   "cell_type": "code",
   "execution_count": 143,
   "metadata": {},
   "outputs": [
    {
     "data": {
      "text/plain": [
       "[Row(features=DenseVector([3.0, 1.0, 1180.0, 5650.0, 1.0, 0.0, 0.0, 3.0, 7.0, 1180.0, 0.0, 1955.0, 0.0, 1340.0, 5650.0]), price=221900)]"
      ]
     },
     "execution_count": 143,
     "metadata": {},
     "output_type": "execute_result"
    }
   ],
   "source": [
    "house_df.head(1)"
   ]
  },
  {
   "cell_type": "code",
   "execution_count": 155,
   "metadata": {},
   "outputs": [
    {
     "name": "stdout",
     "output_type": "stream",
     "text": [
      "Coefficient:  [-41706.85390612283,46463.29881921014,-13709.010017204391,-0.03720132857305679,24756.158279555963,578796.5221890734,44720.1301479482,20366.365727344688,121343.31499211612,13873.487810413231,13873.36113393493,-3538.809587299982,13.255873178823396,22.02267713335554,-0.5241106157735834]\n",
      "Intercept:  6129142.857330269\n"
     ]
    }
   ],
   "source": [
    "#split dataset for training\n",
    "train_set, test_set = house_df.randomSplit([0.8, 0.2])\n",
    "lr = LinearRegression(labelCol='price', maxIter=100, regParam=0, elasticNetParam=0.8)\n",
    "lr_model = lr.fit(train_set)\n",
    "print (\"Coefficient: \", lr_model.coefficients)\n",
    "print (\"Intercept: \", lr_model.intercept)"
   ]
  },
  {
   "cell_type": "code",
   "execution_count": 157,
   "metadata": {},
   "outputs": [
    {
     "name": "stdout",
     "output_type": "stream",
     "text": [
      "RMSE:  217840.212\n",
      "R2:  0.655\n"
     ]
    }
   ],
   "source": [
    "training_summary = lr_model.summary\n",
    "print (\"RMSE: \", round(training_summary.rootMeanSquaredError, 3))\n",
    "print (\"R2: \", round(training_summary.r2, 3))"
   ]
  },
  {
   "cell_type": "code",
   "execution_count": 159,
   "metadata": {},
   "outputs": [],
   "source": [
    "test_results = lr_model.evaluate(test_set)"
   ]
  },
  {
   "cell_type": "code",
   "execution_count": 160,
   "metadata": {},
   "outputs": [
    {
     "name": "stdout",
     "output_type": "stream",
     "text": [
      "RMSE:  208949.04141699386\n",
      "R2:  0.6450752037535077\n"
     ]
    }
   ],
   "source": [
    "print (\"RMSE: \", test_results.rootMeanSquaredError)\n",
    "print (\"R2: \", test_results.r2)"
   ]
  },
  {
   "cell_type": "code",
   "execution_count": 192,
   "metadata": {},
   "outputs": [
    {
     "name": "stdout",
     "output_type": "stream",
     "text": [
      "---trainning set---\n",
      "RMSE:  219631.831\n",
      "R2:  0.649\n",
      "---testing set---\n",
      "RMSE:  200889.37\n",
      "R2:  0.674\n"
     ]
    }
   ],
   "source": [
    "opt_selected_features = [\"bedrooms\", \"bathrooms\", \"sqft_living\", \"grade\", \"sqft_above\", \"sqft_living15\", \"waterfront\"]\n",
    "\n",
    "#Lasso\n",
    "opt_selected_features = [\"sqft_living\", \"sqft_lot\", \"sqft_basement\", \"yr_built\", \"yr_renovated\", \"sqft_living15\", \"sqft_lot15\"]\n",
    "\n",
    "#random forests\n",
    "opt_selected_features = ['sqft_lot', 'sqft_living', 'sqft_above', 'yr_built', 'bathrooms', 'sqft_basement',\n",
    "                        'bedrooms']\n",
    "opt_assembler = VectorAssembler(inputCols=selected_features, outputCol='features')\n",
    "opt_house_df = opt_assembler.transform(df)\n",
    "opt_house_df = opt_house_df.select(['features', 'price'])\n",
    "\n",
    "scaler = StandardScaler(inputCol=\"features\", outputCol=\"scaledFeatures\",\n",
    "                       withStd=True, withMean=False)\n",
    "scalerModel = scaler.fit(opt_house_df)\n",
    "scaledData = scalerModel.transform(opt_house_df)\n",
    "\n",
    "#train the model\n",
    "opt_train_set, opt_test_set = scaledData.randomSplit([0.8, 0.2])\n",
    "opt_lr = LinearRegression(featuresCol='scaledFeatures', labelCol='price', maxIter=1000, regParam=0.3, elasticNetParam=0.8)\n",
    "opt_lr_model = opt_lr.fit(opt_train_set)\n",
    "#print (\"Coefficient: \", opt_lr_model.coefficients)\n",
    "#print (\"Intercept: \", opt_lr_model.intercept)\n",
    "opt_training_summary = opt_lr_model.summary\n",
    "print ('---trainning set---')\n",
    "print (\"RMSE: \", round(opt_training_summary.rootMeanSquaredError, 3))\n",
    "print (\"R2: \", round(opt_training_summary.r2, 3))\n",
    "\n",
    "#test the model\n",
    "print ('---testing set---')\n",
    "opt_test_results = lr_model.evaluate(opt_test_set)\n",
    "print (\"RMSE: \", round(opt_test_results.rootMeanSquaredError,3))\n",
    "print (\"R2: \", round(opt_test_results.r2, 3))"
   ]
  },
  {
   "cell_type": "code",
   "execution_count": null,
   "metadata": {},
   "outputs": [],
   "source": [
    "opt_selected_features = ['sqft_lot', 'sqft_living', 'floors', 'view', 'bathrooms', 'waterfront','bedrooms']\n",
    "opt_assembler = VectorAssembler(inputCols=selected_features, outputCol='features')\n",
    "opt_house_df = opt_assembler.transform(df)\n",
    "opt_house_df = opt_house_df.select(['features', 'price'])\n",
    "\n",
    "scaler = StandardScaler(inputCol=\"features\", outputCol=\"scaledFeatures\",\n",
    "                       withStd=True, withMean=False)\n",
    "scalerModel = scaler.fit(opt_house_df)\n",
    "scaledData = scalerModel.transform(opt_house_df)\n",
    "\n",
    "#train the model\n",
    "opt_train_set, opt_test_set = scaledData.randomSplit([0.8, 0.2])\n",
    "opt_lr = LinearRegression(featuresCol='scaledFeatures', labelCol='price', maxIter=1000, regParam=0.3, elasticNetParam=0.8)\n",
    "opt_lr_model = opt_lr.fit(opt_train_set)\n",
    "#print (\"Coefficient: \", opt_lr_model.coefficients)\n",
    "#print (\"Intercept: \", opt_lr_model.intercept)\n",
    "opt_training_summary = opt_lr_model.summary\n",
    "print ('---trainning set---')\n",
    "print (\"RMSE: \", round(opt_training_summary.rootMeanSquaredError, 3))\n",
    "print (\"R2: \", round(opt_training_summary.r2, 3))\n",
    "\n",
    "#test the model\n",
    "print ('---testing set---')\n",
    "opt_test_results = lr_model.evaluate(opt_test_set)\n",
    "print (\"RMSE: \", round(opt_test_results.rootMeanSquaredError,3))\n",
    "print (\"R2: \", round(opt_test_results.r2, 3))"
   ]
  }
 ],
 "metadata": {
  "kernelspec": {
   "display_name": "Python 3",
   "language": "python",
   "name": "python3"
  },
  "language_info": {
   "codemirror_mode": {
    "name": "ipython",
    "version": 3
   },
   "file_extension": ".py",
   "mimetype": "text/x-python",
   "name": "python",
   "nbconvert_exporter": "python",
   "pygments_lexer": "ipython3",
   "version": "3.6.8"
  }
 },
 "nbformat": 4,
 "nbformat_minor": 2
}
